{
  "nbformat": 4,
  "nbformat_minor": 0,
  "metadata": {
    "colab": {
      "provenance": [],
      "authorship_tag": "ABX9TyPej2IIV6G1A99isx0o33ex",
      "include_colab_link": true
    },
    "kernelspec": {
      "name": "python3",
      "display_name": "Python 3"
    },
    "language_info": {
      "name": "python"
    }
  },
  "cells": [
    {
      "cell_type": "markdown",
      "metadata": {
        "id": "view-in-github",
        "colab_type": "text"
      },
      "source": [
        "<a href=\"https://colab.research.google.com/github/Shiyasalloor/Python-Labcycle-1/blob/main/QUESTION_1.ipynb\" target=\"_parent\"><img src=\"https://colab.research.google.com/assets/colab-badge.svg\" alt=\"Open In Colab\"/></a>"
      ]
    },
    {
      "cell_type": "code",
      "execution_count": null,
      "metadata": {
        "colab": {
          "base_uri": "https://localhost:8080/"
        },
        "id": "XY81mzeNUJLe",
        "outputId": "d90a19ad-421b-4507-c922-a31cd8d1cb14"
      },
      "outputs": [
        {
          "output_type": "stream",
          "name": "stdout",
          "text": [
            "enter any four digit number : 9753\n",
            "sum of digits =  24\n",
            "the reverse of the number =  3579\n",
            "diffference between the product of digits in odd position and product of digits in even position =  24\n"
          ]
        }
      ],
      "source": [
        "   # **PYTHJON LAB CYCLE 1- QUESTION 1**\n",
        "\n",
        "   # **1. Develop a program to read a four-digit number and find its**\n",
        "\n",
        "            # a. Sum of digits\n",
        "            # b. Reverse\n",
        "            # c. Difference between the product of digits at the odd position the product of digits at the even position.\n",
        "\n",
        "\n",
        "# functions to extract the digits from the number :\n",
        "\n",
        "def ExtractDigits(num):\n",
        "  \n",
        "  # extracting the digits into variables digit_1 to digit_4\n",
        "        \n",
        "  digit_4=num%10\n",
        "  num=num//10\n",
        "  digit_3=num%10\n",
        "  num=num//10\n",
        "  digit_2=num%10\n",
        "  num=num//10\n",
        "  digit_1=num%10\n",
        "  return digit_1,digit_2,digit_3,digit_4\n",
        "\n",
        "  # function to add sum of the digits :\n",
        "    \n",
        "def SumOfDigits(digit_1,digit_2,digit_3,digit_4):\n",
        "  sum = 0\n",
        "  # sum of digits\n",
        "  sum = digit_1 + digit_2 + digit_3 + digit_4\n",
        "  print(\"sum of digits = \" ,sum)\n",
        "\n",
        "  # function to reverse the number:\n",
        "    \n",
        "def ReverseOfNumber(digit_1,digit_2,digit_3,digit_4):\n",
        "  # reverse of the number\n",
        "  reverse=(digit_4*1000)+(digit_3*100)+(digit_2*10)+(digit_1)\n",
        "  print(\"the reverse of the number = \",reverse)\n",
        "\n",
        "  #  function to find the diffference between the product of digits in odd position and product of digits in even position\n",
        "\n",
        "def DiffOfProductOfDigits(digit_1,digit_2,digit_3,digit_4):\n",
        "  # product of digits in odd position\n",
        "  product_1=digit_2*digit_4\n",
        "  # product of digits in even position\n",
        "  product_2=digit_1*digit_3\n",
        "  # diffference between the product of digits in odd position and product of digits in even position\n",
        "  difference = product_2 - product_1\n",
        "  print(\"diffference between the product of digits in odd position and product of digits in even position = \" ,difference)\n",
        "\n",
        " #  functions calling\n",
        "\n",
        "num=int(input(\"enter any four digit number : \"))    \n",
        "digit1,digit2,digit3,digit4 = ExtractDigits(num)\n",
        "SumOfDigits(digit1,digit2,digit3,digit4)\n",
        "ReverseOfNumber(digit1,digit2,digit3,digit4)\n",
        "DiffOfProductOfDigits(digit1,digit2,digit3,digit4)\n",
        "\n",
        "\n",
        "    \n",
        "\n",
        "\n",
        "\n",
        "\n",
        "\n",
        "       \n",
        "      "
      ]
    }
  ]
}