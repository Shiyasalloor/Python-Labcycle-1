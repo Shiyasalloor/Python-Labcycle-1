{
  "nbformat": 4,
  "nbformat_minor": 0,
  "metadata": {
    "colab": {
      "provenance": [],
      "authorship_tag": "ABX9TyOpUa5skMnvgs8INJqTKvhg",
      "include_colab_link": true
    },
    "kernelspec": {
      "name": "python3",
      "display_name": "Python 3"
    },
    "language_info": {
      "name": "python"
    }
  },
  "cells": [
    {
      "cell_type": "markdown",
      "metadata": {
        "id": "view-in-github",
        "colab_type": "text"
      },
      "source": [
        "<a href=\"https://colab.research.google.com/github/Shiyasalloor/Python-Labcycle-1/blob/main/QUESTION_4.ipynb\" target=\"_parent\"><img src=\"https://colab.research.google.com/assets/colab-badge.svg\" alt=\"Open In Colab\"/></a>"
      ]
    },
    {
      "cell_type": "code",
      "execution_count": null,
      "metadata": {
        "id": "WU2NpqaoprV9",
        "colab": {
          "base_uri": "https://localhost:8080/"
        },
        "outputId": "509ad293-f1fd-4c42-b5bf-972009572d68"
      },
      "outputs": [
        {
          "output_type": "stream",
          "name": "stdout",
          "text": [
            "Enter the number : 7\n",
            "7 Is Happy \n",
            "Enter the lower limit:5\n",
            "Enter the upper limit:101\n",
            "7 10 13 19 23 28 31 32 44 49 68 70 79 82 86 91 94 97 100 \n",
            "enter the limit of upto which you want to print: 101\n",
            "1 7 10 13 19 23 28 31 32 44 49 68 70 79 82 86 91 94 97 100 "
          ]
        }
      ],
      "source": [
        "# ****  LAB CYCLE 1 - QUESTION 4  ****\n",
        "\n",
        "# ***** 4. Develop a program to perform the following task:\n",
        "\n",
        "#          a.Define a function to check whether a number is happy or not.\n",
        "#          b.Define a function to print all happy numbers within a range.\n",
        "#          c.Define a function to print first N happy numbers.Ahappy numberis a number defined by the following process:\n",
        "#          > Starting with any positive integer, replace the number withthe sum of the squares of its digits.\n",
        "#          > Repeat the process until the number equals 1 (where it will stay), or itloops endlessly in a cyclewhich does not include 1.\n",
        "#          > Those numbers for which this processends in 1are happy.\n",
        "#          > Note: if a number is not being happy after 100 iterations, consider it sad.\n",
        "\n",
        "# *Function to check a number is happy or not\n",
        "\n",
        "def check_happy(num):\n",
        "    for i in range(1, 101):\n",
        "        sum = 0\n",
        "        while (num > 0):\n",
        "            r = num % 10\n",
        "            num = num//10\n",
        "            sum = sum+(r*r)\n",
        "        if sum == 1:\n",
        "            return True\n",
        "        else:\n",
        "            num = sum\n",
        "            if (i == 100):\n",
        "                return False\n",
        "\n",
        "# *Function to get all happy numbers between a range\n",
        "\n",
        "\n",
        "def happy_range(lowlimit, upprlimit):\n",
        "    for i in range(lowlimit, upprlimit):\n",
        "        isHappy = check_happy(i)\n",
        "        if isHappy:\n",
        "            print(i, end=\" \")\n",
        "\n",
        "# *Function to get all happy numbers upto n range\n",
        "\n",
        "\n",
        "def happy_n(l, upprlimit):\n",
        "    for i in range(l, upprlimit):\n",
        "        isHappy = check_happy(i)\n",
        "        if isHappy:\n",
        "            print(i, end=\" \")\n",
        "\n",
        "# *To print a number is happy or not\n",
        "\n",
        "\n",
        "num = int(input(\"Enter the number : \"))\n",
        "result = check_happy(num)\n",
        "if result:\n",
        "    print(num, \"Is Happy \")\n",
        "else:\n",
        "    print(num, \"Is Sad\")\n",
        "\n",
        "# *To print all happy numbers in a range\n",
        "\n",
        "lower_limit = int(input(\"Enter the lower limit:\"))\n",
        "upper_limit = int(input(\"Enter the upper limit:\"))\n",
        "happy_range(lower_limit, upper_limit)\n",
        "\n",
        "# *To print all happy numbers upto n range\n",
        "\n",
        "limit = int(input(\"\\nenter the limit of upto which you want to print: \"))\n",
        "happy_n(1, limit)\n"
      ]
    }
  ]
}