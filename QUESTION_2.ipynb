{
  "nbformat": 4,
  "nbformat_minor": 0,
  "metadata": {
    "colab": {
      "provenance": [],
      "authorship_tag": "ABX9TyP67DDHeUqbvwvHHM4iDsz6",
      "include_colab_link": true
    },
    "kernelspec": {
      "name": "python3",
      "display_name": "Python 3"
    },
    "language_info": {
      "name": "python"
    }
  },
  "cells": [
    {
      "cell_type": "markdown",
      "metadata": {
        "id": "view-in-github",
        "colab_type": "text"
      },
      "source": [
        "<a href=\"https://colab.research.google.com/github/Shiyasalloor/Python-Labcycle-1/blob/main/QUESTION_2.ipynb\" target=\"_parent\"><img src=\"https://colab.research.google.com/assets/colab-badge.svg\" alt=\"Open In Colab\"/></a>"
      ]
    },
    {
      "cell_type": "code",
      "execution_count": null,
      "metadata": {
        "colab": {
          "base_uri": "https://localhost:8080/"
        },
        "id": "0TILIm1n2vtb",
        "outputId": "a5b6a67e-5b68-42b5-fd7f-88e83817b91e"
      },
      "outputs": [
        {
          "output_type": "stream",
          "name": "stdout",
          "text": [
            "First Triangle\n",
            "Enter the side A :9\n",
            "Enter the side B :8\n",
            "Enter the side C :7\n",
            "area of first triangle =  26.832815729997478\n",
            "Second Triangle\n",
            "Enter the side A :6\n",
            "Enter the side B :4\n",
            "Enter the side C :5\n",
            "area of second triangle =  9.921567416492215\n",
            "Total area =  36.754383146489694\n",
            "The % contribution of triangle 1 to total area is  73.00575722642812 %\n",
            "The % contribution of triangle 2 to total area is  26.994242773571877 %\n"
          ]
        }
      ],
      "source": [
        "#** PyTHON LAB CyCLE 1-Q 2**\n",
        "\n",
        "#**2. Develop a program to read the three sides of two triangles and calculate\n",
        "    # the area of both. Define a function to read the three sides and call it.\n",
        "    # Also, define a function to calculate the area. Print the total area enclosed by both triangles and \n",
        "    # each triangle's contribution (%) towards it.**\n",
        "\n",
        "\n",
        "#*function to get sides of triangle from the user\n",
        "def Get_sides():\n",
        "  a=float(input(\"Enter the side A :\"))\n",
        "  b=float(input(\"Enter the side B :\"))\n",
        "  c=float(input(\"Enter the side C :\"))\n",
        "  return a,b,c\n",
        "\n",
        "#*function to get area of triangle\n",
        "def find_area(a,b,c):\n",
        "  import math\n",
        "  s = (a+b+c)/2\n",
        "  area = math.sqrt(s*(s-a)*(s-b)*(s-c))\n",
        "  return area\n",
        "\n",
        "#*function to get total area\n",
        "def total_area(area_1,area_2):\n",
        "  total_area = area_1 + area_2\n",
        "  print(\"Total area = \", total_area)\n",
        "  return total_area\n",
        "\n",
        "#*function to get % contribution of triangle to area\n",
        "def contribution(area1,area2):\n",
        "  total_area=area1+area2\n",
        "  contribution_of_triangle1 = (100*area1)/total_area\n",
        "  contribution_of_triangle2 = (100*area2)/total_area\n",
        "  print(\"The % contribution of triangle 1 to total area is \",contribution_of_triangle1,\"%\")\n",
        "  print(\"The % contribution of triangle 2 to total area is \",contribution_of_triangle2,\"%\")\n",
        "  \n",
        "\n",
        "print(\"First Triangle\")\n",
        "a1,b1,c1 = Get_sides()\n",
        "area_1 = find_area(a1,b1,c1)\n",
        "print(\"area of first triangle = \",area_1)\n",
        "\n",
        "\n",
        "print(\"Second Triangle\")\n",
        "a2,b2,c2 = Get_sides()\n",
        "area_2 = find_area(a2,b2,c2)\n",
        "print(\"area of second triangle = \",area_2)\n",
        "\n",
        "total_area(area_1,area_2)\n",
        "contribution(area_1,area_2)\n",
        "\n",
        "\n",
        "\n"
      ]
    }
  ]
}